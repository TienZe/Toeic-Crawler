{
 "cells": [
  {
   "cell_type": "code",
   "execution_count": 1,
   "metadata": {},
   "outputs": [],
   "source": [
    "import pandas as pd\n"
   ]
  },
  {
   "cell_type": "code",
   "execution_count": 5,
   "metadata": {},
   "outputs": [
    {
     "data": {
      "text/html": [
       "<div>\n",
       "<style scoped>\n",
       "    .dataframe tbody tr th:only-of-type {\n",
       "        vertical-align: middle;\n",
       "    }\n",
       "\n",
       "    .dataframe tbody tr th {\n",
       "        vertical-align: top;\n",
       "    }\n",
       "\n",
       "    .dataframe thead th {\n",
       "        text-align: right;\n",
       "    }\n",
       "</style>\n",
       "<table border=\"1\" class=\"dataframe\">\n",
       "  <thead>\n",
       "    <tr style=\"text-align: right;\">\n",
       "      <th></th>\n",
       "      <th>Title</th>\n",
       "      <th>Subtitle</th>\n",
       "      <th>Description</th>\n",
       "      <th>Thumbnail Link</th>\n",
       "      <th>Book Purchase Link</th>\n",
       "      <th>Author</th>\n",
       "      <th>Category</th>\n",
       "      <th>Link</th>\n",
       "      <th>ID</th>\n",
       "    </tr>\n",
       "  </thead>\n",
       "  <tbody>\n",
       "    <tr>\n",
       "      <th>0</th>\n",
       "      <td>Bunnicula</td>\n",
       "      <td>NaN</td>\n",
       "      <td>In this classic novel, Chester the cat is conv...</td>\n",
       "      <td>https://cdn.vocabulary.com/units/22f5x52u/cove...</td>\n",
       "      <td>https://www.amazon.com/dp/1416928170?tag=vocab...</td>\n",
       "      <td>Deborah Howe</td>\n",
       "      <td>Grade 6,Grade 7,Grade 8,Literature,Just for Fun</td>\n",
       "      <td>/lists/22f5x52u/bunnicula</td>\n",
       "      <td>1</td>\n",
       "    </tr>\n",
       "    <tr>\n",
       "      <th>1</th>\n",
       "      <td>Ripped from the Headlines: February 2025</td>\n",
       "      <td>Our Weekly Roundups of Current Events Vocabulary</td>\n",
       "      <td>Each week, we peruse the news to give you a wo...</td>\n",
       "      <td>https://cdn.vocabulary.com/units/23diw7dx/feat...</td>\n",
       "      <td>NaN</td>\n",
       "      <td>NaN</td>\n",
       "      <td>Events</td>\n",
       "      <td>/lists/23diw7dx/ripped-from-the-headlines-febr...</td>\n",
       "      <td>2</td>\n",
       "    </tr>\n",
       "    <tr>\n",
       "      <th>2</th>\n",
       "      <td>Travel and Transportation</td>\n",
       "      <td>NaN</td>\n",
       "      <td>With a strong grasp of travel vocabulary, you'...</td>\n",
       "      <td>https://cdn.vocabulary.com/units/242oy3um/feat...</td>\n",
       "      <td>NaN</td>\n",
       "      <td>NaN</td>\n",
       "      <td>Test-Prep</td>\n",
       "      <td>/lists/242oy3um/ielts-exam-travel-and-transpor...</td>\n",
       "      <td>3</td>\n",
       "    </tr>\n",
       "    <tr>\n",
       "      <th>3</th>\n",
       "      <td>The Life and Crimes of Hoodie Rosen</td>\n",
       "      <td>NaN</td>\n",
       "      <td>Following a wave of antisemitic attacks, fifte...</td>\n",
       "      <td>https://cdn.vocabulary.com/units/24bju2wr/cove...</td>\n",
       "      <td>https://www.amazon.com/dp/0593525825?tag=vocab...</td>\n",
       "      <td>Isaac Blum</td>\n",
       "      <td>Literature</td>\n",
       "      <td>/lists/24bju2wr/life-and-crimes-of-hoodie-rosen</td>\n",
       "      <td>4</td>\n",
       "    </tr>\n",
       "    <tr>\n",
       "      <th>4</th>\n",
       "      <td>Saints of the Household</td>\n",
       "      <td>NaN</td>\n",
       "      <td>Descendants of the Bribri tribe from Costa Ric...</td>\n",
       "      <td>https://cdn.vocabulary.com/units/24ththlj/cove...</td>\n",
       "      <td>https://www.amazon.com/dp/0374389497?tag=vocab...</td>\n",
       "      <td>Ari Tison</td>\n",
       "      <td>Literature</td>\n",
       "      <td>/lists/24ththlj/saints-of-the-household</td>\n",
       "      <td>5</td>\n",
       "    </tr>\n",
       "  </tbody>\n",
       "</table>\n",
       "</div>"
      ],
      "text/plain": [
       "                                      Title  \\\n",
       "0                                 Bunnicula   \n",
       "1  Ripped from the Headlines: February 2025   \n",
       "2                 Travel and Transportation   \n",
       "3       The Life and Crimes of Hoodie Rosen   \n",
       "4                   Saints of the Household   \n",
       "\n",
       "                                           Subtitle  \\\n",
       "0                                               NaN   \n",
       "1  Our Weekly Roundups of Current Events Vocabulary   \n",
       "2                                               NaN   \n",
       "3                                               NaN   \n",
       "4                                               NaN   \n",
       "\n",
       "                                         Description  \\\n",
       "0  In this classic novel, Chester the cat is conv...   \n",
       "1  Each week, we peruse the news to give you a wo...   \n",
       "2  With a strong grasp of travel vocabulary, you'...   \n",
       "3  Following a wave of antisemitic attacks, fifte...   \n",
       "4  Descendants of the Bribri tribe from Costa Ric...   \n",
       "\n",
       "                                      Thumbnail Link  \\\n",
       "0  https://cdn.vocabulary.com/units/22f5x52u/cove...   \n",
       "1  https://cdn.vocabulary.com/units/23diw7dx/feat...   \n",
       "2  https://cdn.vocabulary.com/units/242oy3um/feat...   \n",
       "3  https://cdn.vocabulary.com/units/24bju2wr/cove...   \n",
       "4  https://cdn.vocabulary.com/units/24ththlj/cove...   \n",
       "\n",
       "                                  Book Purchase Link        Author  \\\n",
       "0  https://www.amazon.com/dp/1416928170?tag=vocab...  Deborah Howe   \n",
       "1                                                NaN           NaN   \n",
       "2                                                NaN           NaN   \n",
       "3  https://www.amazon.com/dp/0593525825?tag=vocab...    Isaac Blum   \n",
       "4  https://www.amazon.com/dp/0374389497?tag=vocab...     Ari Tison   \n",
       "\n",
       "                                          Category  \\\n",
       "0  Grade 6,Grade 7,Grade 8,Literature,Just for Fun   \n",
       "1                                           Events   \n",
       "2                                        Test-Prep   \n",
       "3                                       Literature   \n",
       "4                                       Literature   \n",
       "\n",
       "                                                Link  ID  \n",
       "0                          /lists/22f5x52u/bunnicula   1  \n",
       "1  /lists/23diw7dx/ripped-from-the-headlines-febr...   2  \n",
       "2  /lists/242oy3um/ielts-exam-travel-and-transpor...   3  \n",
       "3    /lists/24bju2wr/life-and-crimes-of-hoodie-rosen   4  \n",
       "4            /lists/24ththlj/saints-of-the-household   5  "
      ]
     },
     "execution_count": 5,
     "metadata": {},
     "output_type": "execute_result"
    }
   ],
   "source": [
    "collection_df = pd.read_csv('../Voca/Vocaset/collection_infos.csv')\n",
    "collection_df.head()"
   ]
  },
  {
   "cell_type": "code",
   "execution_count": 6,
   "metadata": {},
   "outputs": [
    {
     "data": {
      "text/html": [
       "<div>\n",
       "<style scoped>\n",
       "    .dataframe tbody tr th:only-of-type {\n",
       "        vertical-align: middle;\n",
       "    }\n",
       "\n",
       "    .dataframe tbody tr th {\n",
       "        vertical-align: top;\n",
       "    }\n",
       "\n",
       "    .dataframe thead th {\n",
       "        text-align: right;\n",
       "    }\n",
       "</style>\n",
       "<table border=\"1\" class=\"dataframe\">\n",
       "  <thead>\n",
       "    <tr style=\"text-align: right;\">\n",
       "      <th></th>\n",
       "      <th>ID</th>\n",
       "      <th>Title</th>\n",
       "      <th>Description</th>\n",
       "      <th>Category</th>\n",
       "    </tr>\n",
       "  </thead>\n",
       "  <tbody>\n",
       "    <tr>\n",
       "      <th>0</th>\n",
       "      <td>1</td>\n",
       "      <td>Bunnicula</td>\n",
       "      <td>In this classic novel, Chester the cat is conv...</td>\n",
       "      <td>Grade 6,Grade 7,Grade 8,Literature,Just for Fun</td>\n",
       "    </tr>\n",
       "    <tr>\n",
       "      <th>1</th>\n",
       "      <td>2</td>\n",
       "      <td>Ripped from the Headlines: February 2025</td>\n",
       "      <td>Each week, we peruse the news to give you a wo...</td>\n",
       "      <td>Events</td>\n",
       "    </tr>\n",
       "  </tbody>\n",
       "</table>\n",
       "</div>"
      ],
      "text/plain": [
       "   ID                                     Title  \\\n",
       "0   1                                 Bunnicula   \n",
       "1   2  Ripped from the Headlines: February 2025   \n",
       "\n",
       "                                         Description  \\\n",
       "0  In this classic novel, Chester the cat is conv...   \n",
       "1  Each week, we peruse the news to give you a wo...   \n",
       "\n",
       "                                          Category  \n",
       "0  Grade 6,Grade 7,Grade 8,Literature,Just for Fun  \n",
       "1                                           Events  "
      ]
     },
     "execution_count": 6,
     "metadata": {},
     "output_type": "execute_result"
    }
   ],
   "source": [
    "# Retain only experiment features\n",
    "collection_df = collection_df[[\"ID\", \"Title\", \"Description\", \"Category\"]]\n",
    "collection_df.head(2)"
   ]
  },
  {
   "cell_type": "markdown",
   "metadata": {},
   "source": [
    "# 1. Clean data"
   ]
  },
  {
   "cell_type": "code",
   "execution_count": 10,
   "metadata": {},
   "outputs": [],
   "source": [
    "# Lowercase the description\n",
    "collection_df[\"Description\"] = collection_df[\"Description\"].apply(lambda x: x.lower())\n",
    "\n",
    "# Remove special characters\n",
    "collection_df[\"Description\"] = collection_df[\"Description\"].str.replace(r\"[^a-zA-Z0-9\\s]\", \"\", regex=True)"
   ]
  },
  {
   "cell_type": "code",
   "execution_count": 11,
   "metadata": {},
   "outputs": [
    {
     "data": {
      "text/html": [
       "<div>\n",
       "<style scoped>\n",
       "    .dataframe tbody tr th:only-of-type {\n",
       "        vertical-align: middle;\n",
       "    }\n",
       "\n",
       "    .dataframe tbody tr th {\n",
       "        vertical-align: top;\n",
       "    }\n",
       "\n",
       "    .dataframe thead th {\n",
       "        text-align: right;\n",
       "    }\n",
       "</style>\n",
       "<table border=\"1\" class=\"dataframe\">\n",
       "  <thead>\n",
       "    <tr style=\"text-align: right;\">\n",
       "      <th></th>\n",
       "      <th>ID</th>\n",
       "      <th>Title</th>\n",
       "      <th>Description</th>\n",
       "      <th>Category</th>\n",
       "      <th>Categories</th>\n",
       "    </tr>\n",
       "  </thead>\n",
       "  <tbody>\n",
       "    <tr>\n",
       "      <th>0</th>\n",
       "      <td>1</td>\n",
       "      <td>Bunnicula</td>\n",
       "      <td>in this classic novel chester the cat is convi...</td>\n",
       "      <td>Grade 6,Grade 7,Grade 8,Literature,Just for Fun</td>\n",
       "      <td>[Grade 6, Grade 7, Grade 8, Literature, Just f...</td>\n",
       "    </tr>\n",
       "    <tr>\n",
       "      <th>1</th>\n",
       "      <td>2</td>\n",
       "      <td>Ripped from the Headlines: February 2025</td>\n",
       "      <td>each week we peruse the news to give you a wor...</td>\n",
       "      <td>Events</td>\n",
       "      <td>[Events]</td>\n",
       "    </tr>\n",
       "  </tbody>\n",
       "</table>\n",
       "</div>"
      ],
      "text/plain": [
       "   ID                                     Title  \\\n",
       "0   1                                 Bunnicula   \n",
       "1   2  Ripped from the Headlines: February 2025   \n",
       "\n",
       "                                         Description  \\\n",
       "0  in this classic novel chester the cat is convi...   \n",
       "1  each week we peruse the news to give you a wor...   \n",
       "\n",
       "                                          Category  \\\n",
       "0  Grade 6,Grade 7,Grade 8,Literature,Just for Fun   \n",
       "1                                           Events   \n",
       "\n",
       "                                          Categories  \n",
       "0  [Grade 6, Grade 7, Grade 8, Literature, Just f...  \n",
       "1                                           [Events]  "
      ]
     },
     "execution_count": 11,
     "metadata": {},
     "output_type": "execute_result"
    }
   ],
   "source": [
    "collection_df[\"Categories\"] = collection_df[\"Category\"].apply(lambda x: x.split(\",\"))\n",
    "collection_df.head(2)"
   ]
  },
  {
   "cell_type": "markdown",
   "metadata": {},
   "source": [
    "# 2. Extract features"
   ]
  },
  {
   "cell_type": "markdown",
   "metadata": {},
   "source": [
    "## 2.1. Description feature"
   ]
  },
  {
   "cell_type": "code",
   "execution_count": null,
   "metadata": {},
   "outputs": [],
   "source": []
  },
  {
   "cell_type": "markdown",
   "metadata": {},
   "source": [
    "## 2.2. Category feature"
   ]
  },
  {
   "cell_type": "markdown",
   "metadata": {},
   "source": [
    "## 2.3. Combine feature"
   ]
  },
  {
   "cell_type": "code",
   "execution_count": null,
   "metadata": {},
   "outputs": [],
   "source": []
  },
  {
   "cell_type": "markdown",
   "metadata": {},
   "source": [
    "# 3. Inference"
   ]
  },
  {
   "cell_type": "code",
   "execution_count": null,
   "metadata": {},
   "outputs": [],
   "source": []
  },
  {
   "cell_type": "code",
   "execution_count": null,
   "metadata": {},
   "outputs": [],
   "source": []
  }
 ],
 "metadata": {
  "kernelspec": {
   "display_name": "toeic_crawler",
   "language": "python",
   "name": "python3"
  },
  "language_info": {
   "codemirror_mode": {
    "name": "ipython",
    "version": 3
   },
   "file_extension": ".py",
   "mimetype": "text/x-python",
   "name": "python",
   "nbconvert_exporter": "python",
   "pygments_lexer": "ipython3",
   "version": "3.12.9"
  }
 },
 "nbformat": 4,
 "nbformat_minor": 2
}
